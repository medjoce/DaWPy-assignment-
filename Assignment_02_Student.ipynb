{
  "cells": [
    {
      "cell_type": "markdown",
      "metadata": {
        "id": "view-in-github",
        "colab_type": "text"
      },
      "source": [
        "<a href=\"https://colab.research.google.com/github/medjoce/DaWPy-assignment-/blob/main/Assignment_02_Student.ipynb\" target=\"_parent\"><img src=\"https://colab.research.google.com/assets/colab-badge.svg\" alt=\"Open In Colab\"/></a>"
      ]
    },
    {
      "cell_type": "markdown",
      "metadata": {
        "id": "vZC7s_SZ-dbO"
      },
      "source": [
        "___\n",
        "\n",
        "<p style=\"text-align: center;\"><img src=\"https://docs.google.com/uc?id=1lY0Uj5R04yMY3-ZppPWxqCr5pvBLYPnV\" class=\"img-fluid\" \n",
        "alt=\"CLRSWY\"></p>\n",
        "\n",
        "## <p style=\"background-color:#FDFEFE; font-family:newtimeroman; color:#9d4f8c; font-size:100%; text-align:center; border-radius:10px 10px;\">WAY TO REINVENT YOURSELF</p>\n",
        "\n",
        "## <p style=\"background-color:#FDFEFE; font-family:newtimeroman; color:#060108; font-size:200%; text-align:center; border-radius:10px 10px;\">Data Analysis with Python</p>\n",
        "\n",
        "![Image_Assignment](https://i.ibb.co/cY9HhF7/bnote-assignment.gif)\n",
        "\n",
        "## <p style=\"background-color:#FDFEFE; font-family:newtimeroman; color:#4d77cf; font-size:200%; text-align:center; border-radius:10px 10px;\">Assignment 02 (Pandas)</p>"
      ]
    },
    {
      "cell_type": "markdown",
      "metadata": {
        "id": "WBkz8xGydLPQ"
      },
      "source": [
        "<a id=\"toc\"></a>\n",
        "\n",
        "## <p style=\"background-color:#9d4f8c; font-family:newtimeroman; color:#FFF9ED; font-size:150%; text-align:center; border-radius:10px 10px;\">CONTENT</p>\n",
        "\n",
        "\n",
        "* [CONTEXT](#0)\n",
        "* [ABOUT THE DATASET & ATRIBUTES](#00)\n",
        "* [INSTRUCTIONS (Tasks in the Assignment)](#000)\n",
        "* [IMPORTING LIBRARIES NEEDED IN THIS NOTEBOOK](#1)\n",
        "* [Task 01. Checking the head of the DataFrame](#2)\n",
        "* [Task 02. How many rows and columns are there?](#3)\n",
        "* [Task 03. What is the average Purchase Price?](#4)\n",
        "* [Task 04. What were the highest and lowest purchase prices?](#5) \n",
        "* [Task 05. Listing the country names and number of records belongs to each country](#6)\n",
        "* [Task 06. How many records are as Country United Kingdom?](#7)\n",
        "* [Task 07. Creating a column named Total which shows the total amount of spend using UnitPrice and Quantity](#8)\n",
        "* [Task 08. Showing total spending amount according to the Countries](#9)\n",
        "* [Task 09. Which Country spend least?](#10)\n",
        "* [Task 10. Calculating average of spending according to country with apply function](#11) \n",
        "* [Task 11. Calculating average, mean, max of spending according to country with agg function](#12)\n",
        "* [Task 12. What is the max Total spending in whole dataset and show the records of that spending?](#13)\n",
        "* [Task 13. How many people who live in Spain spend more than average Total?](#14)\n",
        "* [Task 14. Converting datatype of InvoiceDate to datetime and assign it to new column name InvoiceDate2](#15)\n",
        "* [Task 15. Taking only date values (year-month-day) from InvoiceDate2 and assign it to a new column named \"date\"](#16)\n",
        "* [Task 16. Dropping InvoiceDate2 and InvoiceDate columns permanently](#17)\n",
        "* [Task 17. Removing A, B, G and E characters at the first 5 rows of \"StockCode\" in ecom dataframe with a string method](#18) \n",
        "* [Task 18. Taking only Total and date columns with loc and craete a new df named ecom2](#19)\n",
        "* [Task 19. Taking only InvoiceNo and CustomerID columns with iloc and craete a new df named ecom3](#20)\n",
        "* [Task 20. Combining ecom2 and ecom3 with concat() method](#21)\n",
        "* [Task 21. Combining the common (intersected) values of ecom2 and ecom3 with merge() method](#22)\n",
        "* [Task 22. Combining ecom2 and ecom3 with join() method](#23)\n",
        "* [THE END OF THE ASSIGNMENT 02](#24)"
      ]
    },
    {
      "cell_type": "markdown",
      "metadata": {
        "id": "nWWxhCridLPR"
      },
      "source": [
        "<a id=\"toc\"></a>\n",
        "\n",
        "## <p style=\"background-color:#9d4f8c; font-family:newtimeroman; color:#FFF9ED; font-size:150%; text-align:center; border-radius:10px 10px;\">CONTEXT</p>\n",
        "\n",
        "<a id=\"0\"></a>\n",
        "<a href=\"#toc\" class=\"btn btn-primary btn-sm\" role=\"button\" aria-pressed=\"true\" \n",
        "style=\"color:blue; background-color:#dfa8e4\" data-toggle=\"popover\">Content</a>\n",
        "\n",
        "E-Commerce is currently one of the fastest and dynamically evolving industries in the world. Its popularity has been growing rapidly with the ease of digital transactions and quick door-to-door deliveries. A major source of big tech companies revenues comes from the interaction of their underlying proprietary algorithms that are heavily powered by data science, so it’s fundamental to understand the methods applied to maintain and grow the number of clients.\n",
        "\n",
        "\"This is a transnational data set which contains all the transactions occurring between 01/12/2010 and 09/12/2011 for a UK-based and registered non-store online retail.The company mainly sells unique all-occasion gifts. Many customers of the company are wholesalers.\""
      ]
    },
    {
      "cell_type": "markdown",
      "metadata": {
        "id": "9pA4BvOudLPS"
      },
      "source": [
        "<a id=\"toc\"></a>\n",
        "\n",
        "## <p style=\"background-color:#9d4f8c; font-family:newtimeroman; color:#FFF9ED; font-size:150%; text-align:center; border-radius:10px 10px;\">ABOUT THE DATASET & ATRIBUTES</p>\n",
        "\n",
        "<a id=\"00\"></a>\n",
        "<a href=\"#toc\" class=\"btn btn-primary btn-sm\" role=\"button\" aria-pressed=\"true\" \n",
        "style=\"color:blue; background-color:#dfa8e4\" data-toggle=\"popover\">Content</a>\n",
        "\n",
        "Typically e-commerce datasets are proprietary and consequently hard to find among publicly available data. However, The [UCI Machine Learning Repository](http://archive.ics.uci.edu/ml/index.php) has made this dataset containing actual transactions from 2010 and 2011. The dataset is maintained on their site, where it can be found by the title \"Online Retail\".\n",
        "\n",
        "**Attribute Information:**\n",
        "\n",
        "**``InvoiceNo:``** Invoice number. Nominal, a 6-digit integral number uniquely assigned to each transaction. If this code starts with letter 'c', it indicates a cancellation.<br>\n",
        "**``StockCode:``** Product (item) code. Nominal, a 5-digit integral number uniquely assigned to each distinct product.<br>\n",
        "**``Description:``** Product (item) name. Nominal.<br>\n",
        "**``Quantity:``** The quantities of each product (item) per transaction. Numeric.<br>\n",
        "**``InvoiceDate:``** Invice Date and time. Numeric, the day and time when each transaction was generated.<br>\n",
        "**``UnitPrice:``** Unit price. Numeric, Product price per unit in sterling.<br>\n",
        "**``CustomerID:``** Customer number. Nominal, a 5-digit integral number uniquely assigned to each customer.<br>\n",
        "**``Country:``** Country name. Nominal, the name of the country where each customer resides.<br>"
      ]
    },
    {
      "cell_type": "markdown",
      "metadata": {
        "id": "8QWb8iHHdLPT"
      },
      "source": [
        "## <p style=\"background-color:#9d4f8c; font-family:newtimeroman; color:#FFF9ED; font-size:150%; text-align:center; border-radius:10px 10px;\">INSTRUCTIONS (Tasks in the Assignment)</p>\n",
        "\n",
        "<a id=\"000\"></a>\n",
        "<a href=\"#toc\" class=\"btn btn-primary btn-sm\" role=\"button\" aria-pressed=\"true\" \n",
        "style=\"color:blue; background-color:#dfa8e4\" data-toggle=\"popover\">Content</a>\n",
        "\n",
        "**In this assignment you're required to handle with the following tasks:** \n",
        "\n",
        "- **Task 01.** Checking the head of the DataFrame.<br>\n",
        "- **Task 02.** How many rows and columns are there?<br>\n",
        "- **Task 03.** What is the average of Product sold and the average price of Product per unit?<br>\n",
        "- **Task 04.** What were the highest and lowest purchase prices?<br>\n",
        "- **Task 05.** Listing the country names and number of their records belongs to each country.<br>\n",
        "- **Task 06.** How many records are as Country United Kingdom?<br>\n",
        "- **Task 07.** Creating a column named \"Total\" which shows the total amount of spend using UnitPrice and Quantity.<br>\n",
        "- **Task 08.** Showing total spending amount according to the Countries and their percentages.<br>\n",
        "- **Task 09.** Which Country spend least?<br>\n",
        "- **Task 10.** Calculating average of spending according to country with apply function  and create a new feature named \"Average_Spend\".<br>\n",
        "- **Task 11.** Calculating average, min, max of spending according to country with agg function and create new features named \"Max_Spend\" and \"Min_Spend\".<br>\n",
        "- **Task 12.** What is the max Total spending in whole dataset and show all records of that spending?<br>\n",
        "- **Task 13.** How many people who live in Spain spend more than average Total?<br>\n",
        "- **Task 14.** Converting datatype of InvoiceDate to datetime and assign it to new column name InvoiceDate2.<br>\n",
        "- **Task 15.** Taking only date values (year-month-day) from InvoiceDate2 and assign it to a new column named \"date\".<br>\n",
        "- **Task 16.** Dropping InvoiceDate2 and InvoiceDate columns permanently.<br>\n",
        "- **Task 17.** Removing A, B, G and E characters at the first 5 rows of \"StockCode\" in ecom dataframe with a string method.<br>\n",
        "- **Task 18.** Taking only Total and date columns with loc and craete a new df named ecom2.<br>\n",
        "- **Task 19.** Taking only InvoiceNo and CustomerID columns with iloc and craete a new df named ecom3.<br>\n",
        "- **Task 20.** Combining ecom2 and ecom3 with concat() method.<br>\n",
        "- **Task 21.** Combining the common (intersected) values of ecom2 and ecom3 with merge() method.<br>\n",
        "- **Task 22.** Combining ecom2 and ecom3 with join() method.<br>"
      ]
    },
    {
      "cell_type": "markdown",
      "metadata": {
        "id": "FMAApHJGdLPT"
      },
      "source": [
        "## <p style=\"background-color:#9d4f8c; font-family:newtimeroman; color:#FFF9ED; font-size:150%; text-align:center; border-radius:10px 10px;\">IMPORTING LIBRARIES NEEDED IN THIS STUDY</p>\n",
        "\n",
        "<a id=\"1\"></a>\n",
        "<a href=\"#toc\" class=\"btn btn-primary btn-sm\" role=\"button\" aria-pressed=\"true\" \n",
        "style=\"color:blue; background-color:#dfa8e4\" data-toggle=\"popover\">Content</a>\n",
        "\n",
        "Once you've installed NumPy and Pandas you can import them as a library. Then read the dataset and assig it as **``\"ecom\"``**:"
      ]
    },
    {
      "cell_type": "code",
      "execution_count": 4,
      "metadata": {
        "id": "Bbnwe4qAdLPU"
      },
      "outputs": [],
      "source": [
        "# Import the related library to this task\n",
        "\n",
        "# YOUR CODE IS HERE \n",
        "\n",
        "import numpy as np\n",
        "import pandas as pd\n"
      ]
    },
    {
      "cell_type": "code",
      "execution_count": 7,
      "metadata": {
        "id": "rDMiqlujdLPV"
      },
      "outputs": [],
      "source": [
        "# After reading the dataset, assign it named \"ecom\"\n",
        "\n",
        "# YOUR CODE IS HERE \n",
        "\n",
        "ecom =pd.read_csv('data.csv',  encoding = 'unicode_escape')"
      ]
    },
    {
      "cell_type": "markdown",
      "metadata": {
        "id": "2UTjwMTo-dbX"
      },
      "source": [
        "### <p style=\"background-color:#9d4f8c; font-family:newtimeroman; color:#FFF9ED; font-size:150%; text-align:center; border-radius:10px 10px;\">Task 01: Check the Head of the DataFrame</p>\n",
        "\n",
        "<a id=\"2\"></a>\n",
        "<a href=\"#toc\" class=\"btn btn-primary btn-sm\" role=\"button\" aria-pressed=\"true\" \n",
        "style=\"color:blue; background-color:#dfa8e4\" data-toggle=\"popover\">Content</a>"
      ]
    },
    {
      "cell_type": "code",
      "execution_count": 8,
      "metadata": {
        "colab": {
          "base_uri": "https://localhost:8080/",
          "height": 333
        },
        "id": "97jXWpxDdLPW",
        "outputId": "bd07b038-6b32-44cc-eb58-8b5d661e5e0f"
      },
      "outputs": [
        {
          "output_type": "execute_result",
          "data": {
            "text/plain": [
              "  InvoiceNo StockCode                          Description  Quantity  \\\n",
              "0    536365    85123A   WHITE HANGING HEART T-LIGHT HOLDER         6   \n",
              "1    536365     71053                  WHITE METAL LANTERN         6   \n",
              "2    536365    84406B       CREAM CUPID HEARTS COAT HANGER         8   \n",
              "3    536365    84029G  KNITTED UNION FLAG HOT WATER BOTTLE         6   \n",
              "4    536365    84029E       RED WOOLLY HOTTIE WHITE HEART.         6   \n",
              "\n",
              "      InvoiceDate  UnitPrice  CustomerID         Country  \n",
              "0  12/1/2010 8:26       2.55     17850.0  United Kingdom  \n",
              "1  12/1/2010 8:26       3.39     17850.0  United Kingdom  \n",
              "2  12/1/2010 8:26       2.75     17850.0  United Kingdom  \n",
              "3  12/1/2010 8:26       3.39     17850.0  United Kingdom  \n",
              "4  12/1/2010 8:26       3.39     17850.0  United Kingdom  "
            ],
            "text/html": [
              "\n",
              "  <div id=\"df-1e037d9b-618a-4f9f-8a5f-12da5d8fce8d\">\n",
              "    <div class=\"colab-df-container\">\n",
              "      <div>\n",
              "<style scoped>\n",
              "    .dataframe tbody tr th:only-of-type {\n",
              "        vertical-align: middle;\n",
              "    }\n",
              "\n",
              "    .dataframe tbody tr th {\n",
              "        vertical-align: top;\n",
              "    }\n",
              "\n",
              "    .dataframe thead th {\n",
              "        text-align: right;\n",
              "    }\n",
              "</style>\n",
              "<table border=\"1\" class=\"dataframe\">\n",
              "  <thead>\n",
              "    <tr style=\"text-align: right;\">\n",
              "      <th></th>\n",
              "      <th>InvoiceNo</th>\n",
              "      <th>StockCode</th>\n",
              "      <th>Description</th>\n",
              "      <th>Quantity</th>\n",
              "      <th>InvoiceDate</th>\n",
              "      <th>UnitPrice</th>\n",
              "      <th>CustomerID</th>\n",
              "      <th>Country</th>\n",
              "    </tr>\n",
              "  </thead>\n",
              "  <tbody>\n",
              "    <tr>\n",
              "      <th>0</th>\n",
              "      <td>536365</td>\n",
              "      <td>85123A</td>\n",
              "      <td>WHITE HANGING HEART T-LIGHT HOLDER</td>\n",
              "      <td>6</td>\n",
              "      <td>12/1/2010 8:26</td>\n",
              "      <td>2.55</td>\n",
              "      <td>17850.0</td>\n",
              "      <td>United Kingdom</td>\n",
              "    </tr>\n",
              "    <tr>\n",
              "      <th>1</th>\n",
              "      <td>536365</td>\n",
              "      <td>71053</td>\n",
              "      <td>WHITE METAL LANTERN</td>\n",
              "      <td>6</td>\n",
              "      <td>12/1/2010 8:26</td>\n",
              "      <td>3.39</td>\n",
              "      <td>17850.0</td>\n",
              "      <td>United Kingdom</td>\n",
              "    </tr>\n",
              "    <tr>\n",
              "      <th>2</th>\n",
              "      <td>536365</td>\n",
              "      <td>84406B</td>\n",
              "      <td>CREAM CUPID HEARTS COAT HANGER</td>\n",
              "      <td>8</td>\n",
              "      <td>12/1/2010 8:26</td>\n",
              "      <td>2.75</td>\n",
              "      <td>17850.0</td>\n",
              "      <td>United Kingdom</td>\n",
              "    </tr>\n",
              "    <tr>\n",
              "      <th>3</th>\n",
              "      <td>536365</td>\n",
              "      <td>84029G</td>\n",
              "      <td>KNITTED UNION FLAG HOT WATER BOTTLE</td>\n",
              "      <td>6</td>\n",
              "      <td>12/1/2010 8:26</td>\n",
              "      <td>3.39</td>\n",
              "      <td>17850.0</td>\n",
              "      <td>United Kingdom</td>\n",
              "    </tr>\n",
              "    <tr>\n",
              "      <th>4</th>\n",
              "      <td>536365</td>\n",
              "      <td>84029E</td>\n",
              "      <td>RED WOOLLY HOTTIE WHITE HEART.</td>\n",
              "      <td>6</td>\n",
              "      <td>12/1/2010 8:26</td>\n",
              "      <td>3.39</td>\n",
              "      <td>17850.0</td>\n",
              "      <td>United Kingdom</td>\n",
              "    </tr>\n",
              "  </tbody>\n",
              "</table>\n",
              "</div>\n",
              "      <button class=\"colab-df-convert\" onclick=\"convertToInteractive('df-1e037d9b-618a-4f9f-8a5f-12da5d8fce8d')\"\n",
              "              title=\"Convert this dataframe to an interactive table.\"\n",
              "              style=\"display:none;\">\n",
              "        \n",
              "  <svg xmlns=\"http://www.w3.org/2000/svg\" height=\"24px\"viewBox=\"0 0 24 24\"\n",
              "       width=\"24px\">\n",
              "    <path d=\"M0 0h24v24H0V0z\" fill=\"none\"/>\n",
              "    <path d=\"M18.56 5.44l.94 2.06.94-2.06 2.06-.94-2.06-.94-.94-2.06-.94 2.06-2.06.94zm-11 1L8.5 8.5l.94-2.06 2.06-.94-2.06-.94L8.5 2.5l-.94 2.06-2.06.94zm10 10l.94 2.06.94-2.06 2.06-.94-2.06-.94-.94-2.06-.94 2.06-2.06.94z\"/><path d=\"M17.41 7.96l-1.37-1.37c-.4-.4-.92-.59-1.43-.59-.52 0-1.04.2-1.43.59L10.3 9.45l-7.72 7.72c-.78.78-.78 2.05 0 2.83L4 21.41c.39.39.9.59 1.41.59.51 0 1.02-.2 1.41-.59l7.78-7.78 2.81-2.81c.8-.78.8-2.07 0-2.86zM5.41 20L4 18.59l7.72-7.72 1.47 1.35L5.41 20z\"/>\n",
              "  </svg>\n",
              "      </button>\n",
              "      \n",
              "  <style>\n",
              "    .colab-df-container {\n",
              "      display:flex;\n",
              "      flex-wrap:wrap;\n",
              "      gap: 12px;\n",
              "    }\n",
              "\n",
              "    .colab-df-convert {\n",
              "      background-color: #E8F0FE;\n",
              "      border: none;\n",
              "      border-radius: 50%;\n",
              "      cursor: pointer;\n",
              "      display: none;\n",
              "      fill: #1967D2;\n",
              "      height: 32px;\n",
              "      padding: 0 0 0 0;\n",
              "      width: 32px;\n",
              "    }\n",
              "\n",
              "    .colab-df-convert:hover {\n",
              "      background-color: #E2EBFA;\n",
              "      box-shadow: 0px 1px 2px rgba(60, 64, 67, 0.3), 0px 1px 3px 1px rgba(60, 64, 67, 0.15);\n",
              "      fill: #174EA6;\n",
              "    }\n",
              "\n",
              "    [theme=dark] .colab-df-convert {\n",
              "      background-color: #3B4455;\n",
              "      fill: #D2E3FC;\n",
              "    }\n",
              "\n",
              "    [theme=dark] .colab-df-convert:hover {\n",
              "      background-color: #434B5C;\n",
              "      box-shadow: 0px 1px 3px 1px rgba(0, 0, 0, 0.15);\n",
              "      filter: drop-shadow(0px 1px 2px rgba(0, 0, 0, 0.3));\n",
              "      fill: #FFFFFF;\n",
              "    }\n",
              "  </style>\n",
              "\n",
              "      <script>\n",
              "        const buttonEl =\n",
              "          document.querySelector('#df-1e037d9b-618a-4f9f-8a5f-12da5d8fce8d button.colab-df-convert');\n",
              "        buttonEl.style.display =\n",
              "          google.colab.kernel.accessAllowed ? 'block' : 'none';\n",
              "\n",
              "        async function convertToInteractive(key) {\n",
              "          const element = document.querySelector('#df-1e037d9b-618a-4f9f-8a5f-12da5d8fce8d');\n",
              "          const dataTable =\n",
              "            await google.colab.kernel.invokeFunction('convertToInteractive',\n",
              "                                                     [key], {});\n",
              "          if (!dataTable) return;\n",
              "\n",
              "          const docLinkHtml = 'Like what you see? Visit the ' +\n",
              "            '<a target=\"_blank\" href=https://colab.research.google.com/notebooks/data_table.ipynb>data table notebook</a>'\n",
              "            + ' to learn more about interactive tables.';\n",
              "          element.innerHTML = '';\n",
              "          dataTable['output_type'] = 'display_data';\n",
              "          await google.colab.output.renderOutput(dataTable, element);\n",
              "          const docLink = document.createElement('div');\n",
              "          docLink.innerHTML = docLinkHtml;\n",
              "          element.appendChild(docLink);\n",
              "        }\n",
              "      </script>\n",
              "    </div>\n",
              "  </div>\n",
              "  "
            ]
          },
          "metadata": {},
          "execution_count": 8
        }
      ],
      "source": [
        "# YOUR CODE IS HERE \n",
        "\n",
        "ecom.head()"
      ]
    },
    {
      "cell_type": "markdown",
      "metadata": {
        "id": "8XenAzi-dLPW"
      },
      "source": [
        "Desired Output:\n",
        "\n",
        "![image.png](https://i.ibb.co/LdKJHb6/assignment1a.png)"
      ]
    },
    {
      "cell_type": "markdown",
      "metadata": {
        "id": "Mq74r0id-dbZ"
      },
      "source": [
        "### <p style=\"background-color:#9d4f8c; font-family:newtimeroman; color:#FFF9ED; font-size:150%; text-align:center; border-radius:10px 10px;\">Task 02: How many rows and columns are there?</p>\n",
        "\n",
        "<a id=\"3\"></a>\n",
        "<a href=\"#toc\" class=\"btn btn-primary btn-sm\" role=\"button\" aria-pressed=\"true\" \n",
        "style=\"color:blue; background-color:#dfa8e4\" data-toggle=\"popover\">Content</a>"
      ]
    },
    {
      "cell_type": "code",
      "execution_count": 9,
      "metadata": {
        "colab": {
          "base_uri": "https://localhost:8080/"
        },
        "id": "OlCtV2RddLPX",
        "outputId": "837abc62-b213-426b-f72f-359b96d4a294"
      },
      "outputs": [
        {
          "output_type": "execute_result",
          "data": {
            "text/plain": [
              "<bound method DataFrame.info of        InvoiceNo StockCode                          Description  Quantity  \\\n",
              "0         536365    85123A   WHITE HANGING HEART T-LIGHT HOLDER         6   \n",
              "1         536365     71053                  WHITE METAL LANTERN         6   \n",
              "2         536365    84406B       CREAM CUPID HEARTS COAT HANGER         8   \n",
              "3         536365    84029G  KNITTED UNION FLAG HOT WATER BOTTLE         6   \n",
              "4         536365    84029E       RED WOOLLY HOTTIE WHITE HEART.         6   \n",
              "...          ...       ...                                  ...       ...   \n",
              "541904    581587     22613          PACK OF 20 SPACEBOY NAPKINS        12   \n",
              "541905    581587     22899         CHILDREN'S APRON DOLLY GIRL          6   \n",
              "541906    581587     23254        CHILDRENS CUTLERY DOLLY GIRL          4   \n",
              "541907    581587     23255      CHILDRENS CUTLERY CIRCUS PARADE         4   \n",
              "541908    581587     22138        BAKING SET 9 PIECE RETROSPOT          3   \n",
              "\n",
              "            InvoiceDate  UnitPrice  CustomerID         Country  \n",
              "0        12/1/2010 8:26       2.55     17850.0  United Kingdom  \n",
              "1        12/1/2010 8:26       3.39     17850.0  United Kingdom  \n",
              "2        12/1/2010 8:26       2.75     17850.0  United Kingdom  \n",
              "3        12/1/2010 8:26       3.39     17850.0  United Kingdom  \n",
              "4        12/1/2010 8:26       3.39     17850.0  United Kingdom  \n",
              "...                 ...        ...         ...             ...  \n",
              "541904  12/9/2011 12:50       0.85     12680.0          France  \n",
              "541905  12/9/2011 12:50       2.10     12680.0          France  \n",
              "541906  12/9/2011 12:50       4.15     12680.0          France  \n",
              "541907  12/9/2011 12:50       4.15     12680.0          France  \n",
              "541908  12/9/2011 12:50       4.95     12680.0          France  \n",
              "\n",
              "[541909 rows x 8 columns]>"
            ]
          },
          "metadata": {},
          "execution_count": 9
        }
      ],
      "source": [
        "# YOUR CODE IS HERE \n",
        "\n",
        "ecom.info"
      ]
    },
    {
      "cell_type": "raw",
      "metadata": {
        "id": "8WGH05BjdLPX"
      },
      "source": [
        "Desired Output:\n",
        "\n",
        "<class 'pandas.core.frame.DataFrame'>\n",
        "RangeIndex: 541909 entries, 0 to 541908\n",
        "Data columns (total 8 columns):\n",
        " #   Column       Non-Null Count   Dtype  \n",
        "---  ------       --------------   -----  \n",
        " 0   InvoiceNo    541909 non-null  object \n",
        " 1   StockCode    541909 non-null  object \n",
        " 2   Description  540455 non-null  object \n",
        " 3   Quantity     541909 non-null  int64  \n",
        " 4   InvoiceDate  541909 non-null  object \n",
        " 5   UnitPrice    541909 non-null  float64\n",
        " 6   CustomerID   406829 non-null  float64\n",
        " 7   Country      541909 non-null  object \n",
        "dtypes: float64(2), int64(1), object(5)\n",
        "memory usage: 33.1+ MB"
      ]
    },
    {
      "cell_type": "code",
      "execution_count": 10,
      "metadata": {
        "colab": {
          "base_uri": "https://localhost:8080/"
        },
        "id": "e01_eD7IdLPY",
        "outputId": "da4aea19-4a16-4a99-8def-f733216adc3f"
      },
      "outputs": [
        {
          "output_type": "execute_result",
          "data": {
            "text/plain": [
              "(541909, 8)"
            ]
          },
          "metadata": {},
          "execution_count": 10
        }
      ],
      "source": [
        "# YOUR CODE IS HERE \n",
        "ecom.shape"
      ]
    },
    {
      "cell_type": "raw",
      "metadata": {
        "id": "mN7o_564dLPY"
      },
      "source": [
        "Desired Output:\n",
        "\n",
        "(541909, 8)"
      ]
    },
    {
      "cell_type": "markdown",
      "metadata": {
        "id": "UbPX_fKO-dbb"
      },
      "source": [
        "### <p style=\"background-color:#9d4f8c; font-family:newtimeroman; color:#FFF9ED; font-size:150%; text-align:center; border-radius:10px 10px;\">Task 03: What is the average of Product sold and the average price of Product per unit?</p>\n",
        "\n",
        "<a id=\"4\"></a>\n",
        "<a href=\"#toc\" class=\"btn btn-primary btn-sm\" role=\"button\" aria-pressed=\"true\" \n",
        "style=\"color:blue; background-color:#dfa8e4\" data-toggle=\"popover\">Content</a>"
      ]
    },
    {
      "cell_type": "code",
      "execution_count": 11,
      "metadata": {
        "colab": {
          "base_uri": "https://localhost:8080/"
        },
        "id": "XZIJMM1wdLPZ",
        "outputId": "0c69f6ed-9572-44aa-c4c5-384fb980f5d8"
      },
      "outputs": [
        {
          "output_type": "execute_result",
          "data": {
            "text/plain": [
              "4.611113626088513"
            ]
          },
          "metadata": {},
          "execution_count": 11
        }
      ],
      "source": [
        "# YOUR CODE IS HERE \n",
        "\n",
        "ecom.UnitPrice.mean()"
      ]
    },
    {
      "cell_type": "raw",
      "metadata": {
        "id": "8hGyQXqXdLPZ"
      },
      "source": [
        "Desired Output:\n",
        "\n",
        "4.611113626083471"
      ]
    },
    {
      "cell_type": "code",
      "execution_count": 12,
      "metadata": {
        "colab": {
          "base_uri": "https://localhost:8080/"
        },
        "id": "5Gxzsuq-dLPa",
        "outputId": "813147d1-7836-41ce-a3eb-8504c55f3d19"
      },
      "outputs": [
        {
          "output_type": "execute_result",
          "data": {
            "text/plain": [
              "9.55224954743324"
            ]
          },
          "metadata": {},
          "execution_count": 12
        }
      ],
      "source": [
        "# YOUR CODE IS HERE \n",
        "\n",
        "ecom.Quantity.mean()"
      ]
    },
    {
      "cell_type": "raw",
      "metadata": {
        "id": "SIuRqgThdLPa"
      },
      "source": [
        "Desired Output:\n",
        "\n",
        "9.55224954743324"
      ]
    },
    {
      "cell_type": "code",
      "execution_count": 13,
      "metadata": {
        "id": "lPzNq5wvdLPa",
        "colab": {
          "base_uri": "https://localhost:8080/"
        },
        "outputId": "077caa35-0143-4a4e-a0c4-f8df464864d9"
      },
      "outputs": [
        {
          "output_type": "execute_result",
          "data": {
            "text/plain": [
              "UnitPrice    4.611114\n",
              "Quantity     9.552250\n",
              "dtype: float64"
            ]
          },
          "metadata": {},
          "execution_count": 13
        }
      ],
      "source": [
        "# YOUR CODE IS HERE \n",
        "ecom[['UnitPrice','Quantity']].mean()"
      ]
    },
    {
      "cell_type": "raw",
      "metadata": {
        "id": "uHgA3AkjdLPb"
      },
      "source": [
        "Desired Output:\n",
        "\n",
        "UnitPrice    4.611114\n",
        "Quantity     9.552250\n",
        "dtype: float64"
      ]
    },
    {
      "cell_type": "markdown",
      "metadata": {
        "id": "BSrwft-V-dbd"
      },
      "source": [
        "### <p style=\"background-color:#9d4f8c; font-family:newtimeroman; color:#FFF9ED; font-size:150%; text-align:center; border-radius:10px 10px;\">Task 04: What are the highest and lowest purchase prices?</p>\n",
        "\n",
        "<a id=\"5\"></a>\n",
        "<a href=\"#toc\" class=\"btn btn-primary btn-sm\" role=\"button\" aria-pressed=\"true\" \n",
        "style=\"color:blue; background-color:#dfa8e4\" data-toggle=\"popover\">Content</a>"
      ]
    },
    {
      "cell_type": "code",
      "execution_count": 14,
      "metadata": {
        "colab": {
          "base_uri": "https://localhost:8080/"
        },
        "id": "9Pl_I-KBdLPb",
        "outputId": "dcb0a728-b918-4ef4-abd1-187e1d29e574"
      },
      "outputs": [
        {
          "output_type": "execute_result",
          "data": {
            "text/plain": [
              "38970.0"
            ]
          },
          "metadata": {},
          "execution_count": 14
        }
      ],
      "source": [
        "# YOUR CODE IS HERE \n",
        "ecom.UnitPrice.max()\n"
      ]
    },
    {
      "cell_type": "raw",
      "metadata": {
        "id": "t9M0wjzcdLPc"
      },
      "source": [
        "Desired Output:\n",
        "\n",
        "38970.0"
      ]
    },
    {
      "cell_type": "code",
      "execution_count": 15,
      "metadata": {
        "colab": {
          "base_uri": "https://localhost:8080/"
        },
        "id": "1NRrHxdLdLPc",
        "outputId": "d441e3c2-bde1-438f-b88d-fc2d2a774960"
      },
      "outputs": [
        {
          "output_type": "execute_result",
          "data": {
            "text/plain": [
              "-11062.06"
            ]
          },
          "metadata": {},
          "execution_count": 15
        }
      ],
      "source": [
        "# YOUR CODE IS HERE \n",
        "\n",
        "ecom.UnitPrice.min()"
      ]
    },
    {
      "cell_type": "raw",
      "metadata": {
        "id": "i0drEJizdLPc"
      },
      "source": [
        "Desired Output:\n",
        "\n",
        "-11062.06"
      ]
    },
    {
      "cell_type": "markdown",
      "metadata": {
        "id": "luwMBBNg-dbf"
      },
      "source": [
        "### <p style=\"background-color:#9d4f8c; font-family:newtimeroman; color:#FFF9ED; font-size:150%; text-align:center; border-radius:10px 10px;\">Task 05: List the country names and number of their records belongs to each country</p>\n",
        "\n",
        "<a id=\"6\"></a>\n",
        "<a href=\"#toc\" class=\"btn btn-primary btn-sm\" role=\"button\" aria-pressed=\"true\" \n",
        "style=\"color:blue; background-color:#dfa8e4\" data-toggle=\"popover\">Content</a>"
      ]
    },
    {
      "cell_type": "code",
      "execution_count": 16,
      "metadata": {
        "colab": {
          "base_uri": "https://localhost:8080/"
        },
        "id": "kQmBPG7zdLPd",
        "outputId": "e6338074-437b-4cf5-f93b-4776218d2e24"
      },
      "outputs": [
        {
          "output_type": "execute_result",
          "data": {
            "text/plain": [
              "United Kingdom          495478\n",
              "Germany                   9495\n",
              "France                    8557\n",
              "EIRE                      8196\n",
              "Spain                     2533\n",
              "Netherlands               2371\n",
              "Belgium                   2069\n",
              "Switzerland               2002\n",
              "Portugal                  1519\n",
              "Australia                 1259\n",
              "Norway                    1086\n",
              "Italy                      803\n",
              "Channel Islands            758\n",
              "Finland                    695\n",
              "Cyprus                     622\n",
              "Sweden                     462\n",
              "Unspecified                446\n",
              "Austria                    401\n",
              "Denmark                    389\n",
              "Japan                      358\n",
              "Poland                     341\n",
              "Israel                     297\n",
              "USA                        291\n",
              "Hong Kong                  288\n",
              "Singapore                  229\n",
              "Iceland                    182\n",
              "Canada                     151\n",
              "Greece                     146\n",
              "Malta                      127\n",
              "United Arab Emirates        68\n",
              "European Community          61\n",
              "RSA                         58\n",
              "Lebanon                     45\n",
              "Lithuania                   35\n",
              "Brazil                      32\n",
              "Czech Republic              30\n",
              "Bahrain                     19\n",
              "Saudi Arabia                10\n",
              "Name: Country, dtype: int64"
            ]
          },
          "metadata": {},
          "execution_count": 16
        }
      ],
      "source": [
        "# YOUR CODE IS HERE \n",
        "\n",
        "ecom[\"Country\"].value_counts()"
      ]
    },
    {
      "cell_type": "raw",
      "metadata": {
        "id": "A3xB9jl8dLPd"
      },
      "source": [
        "Desired Output:\n",
        "\n",
        "United Kingdom          495478\n",
        "Germany                   9495\n",
        "France                    8557\n",
        "EIRE                      8196\n",
        "Spain                     2533\n",
        "Netherlands               2371\n",
        "Belgium                   2069\n",
        "Switzerland               2002\n",
        "Portugal                  1519\n",
        "Australia                 1259\n",
        "Norway                    1086\n",
        "Italy                      803\n",
        "Channel Islands            758\n",
        "Finland                    695\n",
        "Cyprus                     622\n",
        "Sweden                     462\n",
        "Unspecified                446\n",
        "Austria                    401\n",
        "Denmark                    389\n",
        "Japan                      358\n",
        "Poland                     341\n",
        "Israel                     297\n",
        "USA                        291\n",
        "Hong Kong                  288\n",
        "Singapore                  229\n",
        "Iceland                    182\n",
        "Canada                     151\n",
        "Greece                     146\n",
        "Malta                      127\n",
        "United Arab Emirates        68\n",
        "European Community          61\n",
        "RSA                         58\n",
        "Lebanon                     45\n",
        "Lithuania                   35\n",
        "Brazil                      32\n",
        "Czech Republic              30\n",
        "Bahrain                     19\n",
        "Saudi Arabia                10\n",
        "Name: Country, dtype: int64"
      ]
    },
    {
      "cell_type": "markdown",
      "metadata": {
        "id": "bcbitkyn-dbg"
      },
      "source": [
        "### <p style=\"background-color:#9d4f8c; font-family:newtimeroman; color:#FFF9ED; font-size:150%; text-align:center; border-radius:10px 10px;\">Task 06: How many records are there in the United Kingdom?</p>\n",
        "\n",
        "<a id=\"7\"></a>\n",
        "<a href=\"#toc\" class=\"btn btn-primary btn-sm\" role=\"button\" aria-pressed=\"true\" \n",
        "style=\"color:blue; background-color:#dfa8e4\" data-toggle=\"popover\">Content</a>"
      ]
    },
    {
      "cell_type": "code",
      "execution_count": 20,
      "metadata": {
        "id": "0woR8EnfdLPe",
        "colab": {
          "base_uri": "https://localhost:8080/"
        },
        "outputId": "8069d40b-305c-45ec-b6c7-61b4d0564007"
      },
      "outputs": [
        {
          "output_type": "execute_result",
          "data": {
            "text/plain": [
              "InvoiceNo      495478\n",
              "StockCode      495478\n",
              "Description    494024\n",
              "Quantity       495478\n",
              "InvoiceDate    495478\n",
              "UnitPrice      495478\n",
              "CustomerID     361878\n",
              "Country        495478\n",
              "Total          495478\n",
              "dtype: int64"
            ]
          },
          "metadata": {},
          "execution_count": 20
        }
      ],
      "source": [
        "# YOUR CODE IS HERE\n",
        "ecom.loc[ecom['Country'] == 'United Kingdom'].count()\n"
      ]
    },
    {
      "cell_type": "raw",
      "metadata": {
        "id": "P7UYjYZRdLPe"
      },
      "source": [
        "Desired Output:\n",
        "\n",
        "InvoiceNo      495478\n",
        "StockCode      495478\n",
        "Description    494024\n",
        "Quantity       495478\n",
        "InvoiceDate    495478\n",
        "UnitPrice      495478\n",
        "CustomerID     361878\n",
        "Country        495478\n",
        "dtype: int64"
      ]
    },
    {
      "cell_type": "markdown",
      "metadata": {
        "id": "aI-gF9uG-dbh"
      },
      "source": [
        "### <p style=\"background-color:#9d4f8c; font-family:newtimeroman; color:#FFF9ED; font-size:150%; text-align:center; border-radius:10px 10px;\">Task 07: Create a column named \"Total\" which shows the total amount of spend using UnitPrice and Quantity</p>\n",
        "\n",
        "<a id=\"8\"></a>\n",
        "<a href=\"#toc\" class=\"btn btn-primary btn-sm\" role=\"button\" aria-pressed=\"true\" \n",
        "style=\"color:blue; background-color:#dfa8e4\" data-toggle=\"popover\">Content</a>"
      ]
    },
    {
      "cell_type": "code",
      "execution_count": 26,
      "metadata": {
        "id": "M-n7GEqcdLPf",
        "colab": {
          "base_uri": "https://localhost:8080/"
        },
        "outputId": "5f51f75f-7715-436f-9d6a-6bc28f33e091"
      },
      "outputs": [
        {
          "output_type": "execute_result",
          "data": {
            "text/plain": [
              "0         15.30\n",
              "1         20.34\n",
              "2         22.00\n",
              "3         20.34\n",
              "4         20.34\n",
              "          ...  \n",
              "541904    10.20\n",
              "541905    12.60\n",
              "541906    16.60\n",
              "541907    16.60\n",
              "541908    14.85\n",
              "Length: 541909, dtype: float64"
            ]
          },
          "metadata": {},
          "execution_count": 26
        }
      ],
      "source": [
        "# YOUR CODE IS HERE \n",
        "Total= ecom.loc[:, \"Total\"] =  ecom[\"UnitPrice\"] * ecom[\"Quantity\"]\n",
        "Total"
      ]
    },
    {
      "cell_type": "raw",
      "metadata": {
        "id": "Q-iV_aF-dLPf"
      },
      "source": [
        "Desired Output:\n",
        "\n",
        "0         15.30\n",
        "1         20.34\n",
        "2         22.00\n",
        "3         20.34\n",
        "4         20.34\n",
        "          ...  \n",
        "541904    10.20\n",
        "541905    12.60\n",
        "541906    16.60\n",
        "541907    16.60\n",
        "541908    14.85\n",
        "Name: Total, Length: 541909, dtype: float64"
      ]
    },
    {
      "cell_type": "code",
      "execution_count": 27,
      "metadata": {
        "id": "VhTIkLG9dLPf",
        "colab": {
          "base_uri": "https://localhost:8080/",
          "height": 333
        },
        "outputId": "d734809e-f79b-44bb-b36e-55bebce0755c"
      },
      "outputs": [
        {
          "output_type": "execute_result",
          "data": {
            "text/plain": [
              "  InvoiceNo StockCode                          Description  Quantity  \\\n",
              "0    536365    85123A   WHITE HANGING HEART T-LIGHT HOLDER         6   \n",
              "1    536365     71053                  WHITE METAL LANTERN         6   \n",
              "2    536365    84406B       CREAM CUPID HEARTS COAT HANGER         8   \n",
              "3    536365    84029G  KNITTED UNION FLAG HOT WATER BOTTLE         6   \n",
              "4    536365    84029E       RED WOOLLY HOTTIE WHITE HEART.         6   \n",
              "\n",
              "      InvoiceDate  UnitPrice  CustomerID         Country  Total  \n",
              "0  12/1/2010 8:26       2.55     17850.0  United Kingdom  15.30  \n",
              "1  12/1/2010 8:26       3.39     17850.0  United Kingdom  20.34  \n",
              "2  12/1/2010 8:26       2.75     17850.0  United Kingdom  22.00  \n",
              "3  12/1/2010 8:26       3.39     17850.0  United Kingdom  20.34  \n",
              "4  12/1/2010 8:26       3.39     17850.0  United Kingdom  20.34  "
            ],
            "text/html": [
              "\n",
              "  <div id=\"df-f5de7154-193d-4536-814f-fdba33d2e240\">\n",
              "    <div class=\"colab-df-container\">\n",
              "      <div>\n",
              "<style scoped>\n",
              "    .dataframe tbody tr th:only-of-type {\n",
              "        vertical-align: middle;\n",
              "    }\n",
              "\n",
              "    .dataframe tbody tr th {\n",
              "        vertical-align: top;\n",
              "    }\n",
              "\n",
              "    .dataframe thead th {\n",
              "        text-align: right;\n",
              "    }\n",
              "</style>\n",
              "<table border=\"1\" class=\"dataframe\">\n",
              "  <thead>\n",
              "    <tr style=\"text-align: right;\">\n",
              "      <th></th>\n",
              "      <th>InvoiceNo</th>\n",
              "      <th>StockCode</th>\n",
              "      <th>Description</th>\n",
              "      <th>Quantity</th>\n",
              "      <th>InvoiceDate</th>\n",
              "      <th>UnitPrice</th>\n",
              "      <th>CustomerID</th>\n",
              "      <th>Country</th>\n",
              "      <th>Total</th>\n",
              "    </tr>\n",
              "  </thead>\n",
              "  <tbody>\n",
              "    <tr>\n",
              "      <th>0</th>\n",
              "      <td>536365</td>\n",
              "      <td>85123A</td>\n",
              "      <td>WHITE HANGING HEART T-LIGHT HOLDER</td>\n",
              "      <td>6</td>\n",
              "      <td>12/1/2010 8:26</td>\n",
              "      <td>2.55</td>\n",
              "      <td>17850.0</td>\n",
              "      <td>United Kingdom</td>\n",
              "      <td>15.30</td>\n",
              "    </tr>\n",
              "    <tr>\n",
              "      <th>1</th>\n",
              "      <td>536365</td>\n",
              "      <td>71053</td>\n",
              "      <td>WHITE METAL LANTERN</td>\n",
              "      <td>6</td>\n",
              "      <td>12/1/2010 8:26</td>\n",
              "      <td>3.39</td>\n",
              "      <td>17850.0</td>\n",
              "      <td>United Kingdom</td>\n",
              "      <td>20.34</td>\n",
              "    </tr>\n",
              "    <tr>\n",
              "      <th>2</th>\n",
              "      <td>536365</td>\n",
              "      <td>84406B</td>\n",
              "      <td>CREAM CUPID HEARTS COAT HANGER</td>\n",
              "      <td>8</td>\n",
              "      <td>12/1/2010 8:26</td>\n",
              "      <td>2.75</td>\n",
              "      <td>17850.0</td>\n",
              "      <td>United Kingdom</td>\n",
              "      <td>22.00</td>\n",
              "    </tr>\n",
              "    <tr>\n",
              "      <th>3</th>\n",
              "      <td>536365</td>\n",
              "      <td>84029G</td>\n",
              "      <td>KNITTED UNION FLAG HOT WATER BOTTLE</td>\n",
              "      <td>6</td>\n",
              "      <td>12/1/2010 8:26</td>\n",
              "      <td>3.39</td>\n",
              "      <td>17850.0</td>\n",
              "      <td>United Kingdom</td>\n",
              "      <td>20.34</td>\n",
              "    </tr>\n",
              "    <tr>\n",
              "      <th>4</th>\n",
              "      <td>536365</td>\n",
              "      <td>84029E</td>\n",
              "      <td>RED WOOLLY HOTTIE WHITE HEART.</td>\n",
              "      <td>6</td>\n",
              "      <td>12/1/2010 8:26</td>\n",
              "      <td>3.39</td>\n",
              "      <td>17850.0</td>\n",
              "      <td>United Kingdom</td>\n",
              "      <td>20.34</td>\n",
              "    </tr>\n",
              "  </tbody>\n",
              "</table>\n",
              "</div>\n",
              "      <button class=\"colab-df-convert\" onclick=\"convertToInteractive('df-f5de7154-193d-4536-814f-fdba33d2e240')\"\n",
              "              title=\"Convert this dataframe to an interactive table.\"\n",
              "              style=\"display:none;\">\n",
              "        \n",
              "  <svg xmlns=\"http://www.w3.org/2000/svg\" height=\"24px\"viewBox=\"0 0 24 24\"\n",
              "       width=\"24px\">\n",
              "    <path d=\"M0 0h24v24H0V0z\" fill=\"none\"/>\n",
              "    <path d=\"M18.56 5.44l.94 2.06.94-2.06 2.06-.94-2.06-.94-.94-2.06-.94 2.06-2.06.94zm-11 1L8.5 8.5l.94-2.06 2.06-.94-2.06-.94L8.5 2.5l-.94 2.06-2.06.94zm10 10l.94 2.06.94-2.06 2.06-.94-2.06-.94-.94-2.06-.94 2.06-2.06.94z\"/><path d=\"M17.41 7.96l-1.37-1.37c-.4-.4-.92-.59-1.43-.59-.52 0-1.04.2-1.43.59L10.3 9.45l-7.72 7.72c-.78.78-.78 2.05 0 2.83L4 21.41c.39.39.9.59 1.41.59.51 0 1.02-.2 1.41-.59l7.78-7.78 2.81-2.81c.8-.78.8-2.07 0-2.86zM5.41 20L4 18.59l7.72-7.72 1.47 1.35L5.41 20z\"/>\n",
              "  </svg>\n",
              "      </button>\n",
              "      \n",
              "  <style>\n",
              "    .colab-df-container {\n",
              "      display:flex;\n",
              "      flex-wrap:wrap;\n",
              "      gap: 12px;\n",
              "    }\n",
              "\n",
              "    .colab-df-convert {\n",
              "      background-color: #E8F0FE;\n",
              "      border: none;\n",
              "      border-radius: 50%;\n",
              "      cursor: pointer;\n",
              "      display: none;\n",
              "      fill: #1967D2;\n",
              "      height: 32px;\n",
              "      padding: 0 0 0 0;\n",
              "      width: 32px;\n",
              "    }\n",
              "\n",
              "    .colab-df-convert:hover {\n",
              "      background-color: #E2EBFA;\n",
              "      box-shadow: 0px 1px 2px rgba(60, 64, 67, 0.3), 0px 1px 3px 1px rgba(60, 64, 67, 0.15);\n",
              "      fill: #174EA6;\n",
              "    }\n",
              "\n",
              "    [theme=dark] .colab-df-convert {\n",
              "      background-color: #3B4455;\n",
              "      fill: #D2E3FC;\n",
              "    }\n",
              "\n",
              "    [theme=dark] .colab-df-convert:hover {\n",
              "      background-color: #434B5C;\n",
              "      box-shadow: 0px 1px 3px 1px rgba(0, 0, 0, 0.15);\n",
              "      filter: drop-shadow(0px 1px 2px rgba(0, 0, 0, 0.3));\n",
              "      fill: #FFFFFF;\n",
              "    }\n",
              "  </style>\n",
              "\n",
              "      <script>\n",
              "        const buttonEl =\n",
              "          document.querySelector('#df-f5de7154-193d-4536-814f-fdba33d2e240 button.colab-df-convert');\n",
              "        buttonEl.style.display =\n",
              "          google.colab.kernel.accessAllowed ? 'block' : 'none';\n",
              "\n",
              "        async function convertToInteractive(key) {\n",
              "          const element = document.querySelector('#df-f5de7154-193d-4536-814f-fdba33d2e240');\n",
              "          const dataTable =\n",
              "            await google.colab.kernel.invokeFunction('convertToInteractive',\n",
              "                                                     [key], {});\n",
              "          if (!dataTable) return;\n",
              "\n",
              "          const docLinkHtml = 'Like what you see? Visit the ' +\n",
              "            '<a target=\"_blank\" href=https://colab.research.google.com/notebooks/data_table.ipynb>data table notebook</a>'\n",
              "            + ' to learn more about interactive tables.';\n",
              "          element.innerHTML = '';\n",
              "          dataTable['output_type'] = 'display_data';\n",
              "          await google.colab.output.renderOutput(dataTable, element);\n",
              "          const docLink = document.createElement('div');\n",
              "          docLink.innerHTML = docLinkHtml;\n",
              "          element.appendChild(docLink);\n",
              "        }\n",
              "      </script>\n",
              "    </div>\n",
              "  </div>\n",
              "  "
            ]
          },
          "metadata": {},
          "execution_count": 27
        }
      ],
      "source": [
        "# YOUR CODE IS HERE \n",
        "ecom.head()"
      ]
    },
    {
      "cell_type": "markdown",
      "metadata": {
        "id": "R7QGzdpRdLPg"
      },
      "source": [
        "Desired Output:\n",
        "\n",
        "![image.png](https://i.ibb.co/7y5d0sp/assignment2b.png)"
      ]
    },
    {
      "cell_type": "markdown",
      "metadata": {
        "id": "qkw2UutO-dbi"
      },
      "source": [
        "### <p style=\"background-color:#9d4f8c; font-family:newtimeroman; color:#FFF9ED; font-size:150%; text-align:center; border-radius:10px 10px;\">Task 08: Show total spending amount according to the Countries and their percentages.</p>\n",
        "\n",
        "<a id=\"9\"></a>\n",
        "<a href=\"#toc\" class=\"btn btn-primary btn-sm\" role=\"button\" aria-pressed=\"true\" \n",
        "style=\"color:blue; background-color:#dfa8e4\" data-toggle=\"popover\">Content</a>"
      ]
    },
    {
      "cell_type": "code",
      "execution_count": 28,
      "metadata": {
        "id": "TJxmOQc6dLPh",
        "colab": {
          "base_uri": "https://localhost:8080/"
        },
        "outputId": "04b222c3-0be2-42ff-af43-bd5bbe051f05"
      },
      "outputs": [
        {
          "output_type": "execute_result",
          "data": {
            "text/plain": [
              "Country\n",
              "Australia                137077.270\n",
              "Austria                   10154.320\n",
              "Bahrain                     548.400\n",
              "Belgium                   40910.960\n",
              "Brazil                     1143.600\n",
              "Canada                     3666.380\n",
              "Channel Islands           20086.290\n",
              "Cyprus                    12946.290\n",
              "Czech Republic              707.720\n",
              "Denmark                   18768.140\n",
              "EIRE                     263276.820\n",
              "European Community         1291.750\n",
              "Finland                   22326.740\n",
              "France                   197403.900\n",
              "Germany                  221698.210\n",
              "Greece                     4710.520\n",
              "Hong Kong                 10117.040\n",
              "Iceland                    4310.000\n",
              "Israel                     7907.820\n",
              "Italy                     16890.510\n",
              "Japan                     35340.620\n",
              "Lebanon                    1693.880\n",
              "Lithuania                  1661.060\n",
              "Malta                      2505.470\n",
              "Netherlands              284661.540\n",
              "Norway                    35163.460\n",
              "Poland                     7213.140\n",
              "Portugal                  29367.020\n",
              "RSA                        1002.310\n",
              "Saudi Arabia                131.170\n",
              "Singapore                  9120.390\n",
              "Spain                     54774.580\n",
              "Sweden                    36595.910\n",
              "Switzerland               56385.350\n",
              "USA                        1730.920\n",
              "United Arab Emirates       1902.280\n",
              "United Kingdom          8187806.364\n",
              "Unspecified                4749.790\n",
              "Name: Total, dtype: float64"
            ]
          },
          "metadata": {},
          "execution_count": 28
        }
      ],
      "source": [
        "# YOUR CODE IS HERE \n",
        "ecom.groupby(\"Country\")[\"Total\"].sum()"
      ]
    },
    {
      "cell_type": "raw",
      "metadata": {
        "id": "FiCThK-YdLPi"
      },
      "source": [
        "Desired Output:\n",
        "\n",
        "Country\n",
        "Australia                137077.270\n",
        "Austria                   10154.320\n",
        "Bahrain                     548.400\n",
        "Belgium                   40910.960\n",
        "Brazil                     1143.600\n",
        "Canada                     3666.380\n",
        "Channel Islands           20086.290\n",
        "Cyprus                    12946.290\n",
        "Czech Republic              707.720\n",
        "Denmark                   18768.140\n",
        "EIRE                     263276.820\n",
        "European Community         1291.750\n",
        "Finland                   22326.740\n",
        "France                   197403.900\n",
        "Germany                  221698.210\n",
        "Greece                     4710.520\n",
        "Hong Kong                 10117.040\n",
        "Iceland                    4310.000\n",
        "Israel                     7907.820\n",
        "Italy                     16890.510\n",
        "Japan                     35340.620\n",
        "Lebanon                    1693.880\n",
        "Lithuania                  1661.060\n",
        "Malta                      2505.470\n",
        "Netherlands              284661.540\n",
        "Norway                    35163.460\n",
        "Poland                     7213.140\n",
        "Portugal                  29367.020\n",
        "RSA                        1002.310\n",
        "Saudi Arabia                131.170\n",
        "Singapore                  9120.390\n",
        "Spain                     54774.580\n",
        "Sweden                    36595.910\n",
        "Switzerland               56385.350\n",
        "USA                        1730.920\n",
        "United Arab Emirates       1902.280\n",
        "United Kingdom          8187806.364\n",
        "Unspecified                4749.790\n",
        "Name: Total, dtype: float64"
      ]
    },
    {
      "cell_type": "code",
      "execution_count": 1,
      "metadata": {
        "id": "ynyEvg_tdLPj",
        "colab": {
          "base_uri": "https://localhost:8080/",
          "height": 215
        },
        "outputId": "b8dc1e30-596e-4828-e973-2c5bd3f4d15b"
      },
      "outputs": [
        {
          "output_type": "error",
          "ename": "NameError",
          "evalue": "ignored",
          "traceback": [
            "\u001b[0;31m---------------------------------------------------------------------------\u001b[0m",
            "\u001b[0;31mNameError\u001b[0m                                 Traceback (most recent call last)",
            "\u001b[0;32m<ipython-input-1-df686d22504b>\u001b[0m in \u001b[0;36m<module>\u001b[0;34m\u001b[0m\n\u001b[1;32m      1\u001b[0m \u001b[0;31m# YOUR CODE IS HERE\u001b[0m\u001b[0;34m\u001b[0m\u001b[0;34m\u001b[0m\u001b[0;34m\u001b[0m\u001b[0m\n\u001b[1;32m      2\u001b[0m \u001b[0;34m\u001b[0m\u001b[0m\n\u001b[0;32m----> 3\u001b[0;31m \u001b[0mecom\u001b[0m\u001b[0;34m.\u001b[0m\u001b[0mgroupby\u001b[0m\u001b[0;34m(\u001b[0m\u001b[0;34m\"Country\"\u001b[0m\u001b[0;34m)\u001b[0m\u001b[0;34m[\u001b[0m\u001b[0;34m\"Total\"\u001b[0m\u001b[0;34m]\u001b[0m\u001b[0;34m.\u001b[0m\u001b[0msum\u001b[0m\u001b[0;34m(\u001b[0m\u001b[0;34m)\u001b[0m\u001b[0;34m/\u001b[0m\u001b[0mecom\u001b[0m\u001b[0;34m[\u001b[0m\u001b[0;34m'Total'\u001b[0m\u001b[0;34m]\u001b[0m\u001b[0;34m.\u001b[0m\u001b[0msum\u001b[0m\u001b[0;34m(\u001b[0m\u001b[0;34m)\u001b[0m\u001b[0;34m*\u001b[0m\u001b[0;36m100\u001b[0m\u001b[0;34m\u001b[0m\u001b[0;34m\u001b[0m\u001b[0m\n\u001b[0m\u001b[1;32m      4\u001b[0m \u001b[0;34m\u001b[0m\u001b[0m\n",
            "\u001b[0;31mNameError\u001b[0m: name 'ecom' is not defined"
          ]
        }
      ],
      "source": [
        "# YOUR CODE IS HERE \n",
        "\n",
        "ecom.groupby(\"Country\")[\"Total\"].sum()/ecom['Total'].sum()*100\n",
        "\n"
      ]
    },
    {
      "cell_type": "raw",
      "metadata": {
        "id": "YMYVPcRtdLPj"
      },
      "source": [
        "Desired Output:\n",
        "\n",
        "Country\n",
        "United Kingdom          83.996903\n",
        "Netherlands              2.920280\n",
        "EIRE                     2.700899\n",
        "Germany                  2.274353\n",
        "France                   2.025123\n",
        "Australia                1.406246\n",
        "Switzerland              0.578445\n",
        "Spain                    0.561920\n",
        "Belgium                  0.419697\n",
        "Sweden                   0.375429\n",
        "Japan                    0.362552\n",
        "Norway                   0.360734\n",
        "Portugal                 0.301270\n",
        "Finland                  0.229045\n",
        "Channel Islands          0.206061\n",
        "Denmark                  0.192538\n",
        "Italy                    0.173276\n",
        "Cyprus                   0.132813\n",
        "Austria                  0.104171\n",
        "Hong Kong                0.103788\n",
        "Singapore                0.093564\n",
        "Israel                   0.081125\n",
        "Poland                   0.073998\n",
        "Unspecified              0.048727\n",
        "Greece                   0.048324\n",
        "Iceland                  0.044215\n",
        "Canada                   0.037613\n",
        "Malta                    0.025703\n",
        "United Arab Emirates     0.019515\n",
        "USA                      0.017757\n",
        "Lebanon                  0.017377\n",
        "Lithuania                0.017040\n",
        "European Community       0.013252\n",
        "Brazil                   0.011732\n",
        "RSA                      0.010282\n",
        "Czech Republic           0.007260\n",
        "Bahrain                  0.005626\n",
        "Saudi Arabia             0.001346\n",
        "Name: Total, dtype: float64"
      ]
    },
    {
      "cell_type": "markdown",
      "metadata": {
        "id": "pBsCg6DS-dbj"
      },
      "source": [
        "### <p style=\"background-color:#9d4f8c; font-family:newtimeroman; color:#FFF9ED; font-size:150%; text-align:center; border-radius:10px 10px;\">Task 09: Which Country spend least?</p>\n",
        "\n",
        "<a id=\"10\"></a>\n",
        "<a href=\"#toc\" class=\"btn btn-primary btn-sm\" role=\"button\" aria-pressed=\"true\" \n",
        "style=\"color:blue; background-color:#dfa8e4\" data-toggle=\"popover\">Content</a>"
      ]
    },
    {
      "cell_type": "code",
      "execution_count": 82,
      "metadata": {
        "id": "RcYuzBVfdLPk",
        "colab": {
          "base_uri": "https://localhost:8080/"
        },
        "outputId": "e49608f0-72b7-4a01-a6e3-89b9da626a15"
      },
      "outputs": [
        {
          "output_type": "execute_result",
          "data": {
            "text/plain": [
              "131.17"
            ]
          },
          "metadata": {},
          "execution_count": 82
        }
      ],
      "source": [
        "# YOUR CODE IS HERE \n"
      ]
    },
    {
      "cell_type": "raw",
      "metadata": {
        "id": "NlU1r822dLPk"
      },
      "source": [
        "Desired Output:\n",
        "\n",
        "Country\n",
        "Saudi Arabia    131.17\n",
        "Name: Total, dtype: float64"
      ]
    },
    {
      "cell_type": "markdown",
      "metadata": {
        "id": "pBSVhNzq-dbk"
      },
      "source": [
        "### <p style=\"background-color:#9d4f8c; font-family:newtimeroman; color:#FFF9ED; font-size:150%; text-align:center; border-radius:10px 10px;\">Task 10: Calculate the average of spending according to country with apply function and create a new feature named \"Average_Spend\"</p>\n",
        "\n",
        "<a id=\"11\"></a>\n",
        "<a href=\"#toc\" class=\"btn btn-primary btn-sm\" role=\"button\" aria-pressed=\"true\" \n",
        "style=\"color:blue; background-color:#dfa8e4\" data-toggle=\"popover\">Content</a>"
      ]
    },
    {
      "cell_type": "code",
      "execution_count": 3,
      "metadata": {
        "id": "MNHbj60MdLPl",
        "colab": {
          "base_uri": "https://localhost:8080/",
          "height": 130
        },
        "outputId": "1aaa4bc4-3de9-448d-997e-c889ba6bb66e"
      },
      "outputs": [
        {
          "output_type": "error",
          "ename": "IndentationError",
          "evalue": "ignored",
          "traceback": [
            "\u001b[0;36m  File \u001b[0;32m\"<ipython-input-3-702eafd209f6>\"\u001b[0;36m, line \u001b[0;32m2\u001b[0m\n\u001b[0;31m    df['col1'] = df['col1'].apply(complex_function)\u001b[0m\n\u001b[0m    ^\u001b[0m\n\u001b[0;31mIndentationError\u001b[0m\u001b[0;31m:\u001b[0m unexpected indent\n"
          ]
        }
      ],
      "source": [
        "# YOUR CODE IS HERE \n",
        "ecom['Country'].apply()"
      ]
    },
    {
      "cell_type": "raw",
      "metadata": {
        "id": "gpG_HoBHdLPm"
      },
      "source": [
        "Desired Output:\n",
        "\n",
        "Country\n",
        "Australia               108.877895\n",
        "Austria                  25.322494\n",
        "Bahrain                  28.863158\n",
        "Belgium                  19.773301\n",
        "Brazil                   35.737500\n",
        "Canada                   24.280662\n",
        "Channel Islands          26.499063\n",
        "Cyprus                   20.813971\n",
        "Czech Republic           23.590667\n",
        "Denmark                  48.247147\n",
        "EIRE                     32.122599\n",
        "European Community       21.176230\n",
        "Finland                  32.124806\n",
        "France                   23.069288\n",
        "Germany                  23.348943\n",
        "Greece                   32.263836\n",
        "Hong Kong                35.128611\n",
        "Iceland                  23.681319\n",
        "Israel                   26.625657\n",
        "Italy                    21.034259\n",
        "Japan                    98.716816\n",
        "Lebanon                  37.641778\n",
        "Lithuania                47.458857\n",
        "Malta                    19.728110\n",
        "Netherlands             120.059696\n",
        "Norway                   32.378877\n",
        "Poland                   21.152903\n",
        "Portugal                 19.333127\n",
        "RSA                      17.281207\n",
        "Saudi Arabia             13.117000\n",
        "Singapore                39.827031\n",
        "Spain                    21.624390\n",
        "Sweden                   79.211926\n",
        "Switzerland              28.164510\n",
        "USA                       5.948179\n",
        "United Arab Emirates     27.974706\n",
        "United Kingdom           16.525065\n",
        "Unspecified              10.649753\n",
        "Name: Total, dtype: float64"
      ]
    },
    {
      "cell_type": "code",
      "execution_count": null,
      "metadata": {
        "id": "eb0NNfdQdLPm"
      },
      "outputs": [],
      "source": [
        "# YOUR CODE IS HERE \n",
        "\n"
      ]
    },
    {
      "cell_type": "markdown",
      "metadata": {
        "id": "0cDlwVlrdLPm"
      },
      "source": [
        "Desired Output:\n",
        "\n",
        "![image.png](https://i.ibb.co/b3m1jhs/assignment2c.png)"
      ]
    },
    {
      "cell_type": "markdown",
      "metadata": {
        "id": "dTJIL5ls-dbl"
      },
      "source": [
        "### <p style=\"background-color:#9d4f8c; font-family:newtimeroman; color:#FFF9ED; font-size:150%; text-align:center; border-radius:10px 10px;\">Task 11: Calculate average, min, max of spending according to country with agg() function and create new features named \"Max_Spend\" and \"Min_Spend\"</p>\n",
        "\n",
        "<a id=\"12\"></a>\n",
        "<a href=\"#toc\" class=\"btn btn-primary btn-sm\" role=\"button\" aria-pressed=\"true\" \n",
        "style=\"color:blue; background-color:#dfa8e4\" data-toggle=\"popover\">Content</a>"
      ]
    },
    {
      "cell_type": "code",
      "execution_count": null,
      "metadata": {
        "id": "4lDYm6wqdLPn"
      },
      "outputs": [],
      "source": [
        "# YOUR CODE IS HERE \n",
        "\n"
      ]
    },
    {
      "cell_type": "markdown",
      "metadata": {
        "id": "TnbrIu-vdLPn"
      },
      "source": [
        "Desired Output:\n",
        "\n",
        "![image.png](https://i.ibb.co/0qRCRjH/assignment2d.png)"
      ]
    },
    {
      "cell_type": "code",
      "execution_count": null,
      "metadata": {
        "id": "Zt11_4zndLPn"
      },
      "outputs": [],
      "source": [
        "# YOUR CODE IS HERE \n",
        "\n"
      ]
    },
    {
      "cell_type": "markdown",
      "metadata": {
        "id": "xXHbAWWJdLPn"
      },
      "source": [
        "Desired Output:\n",
        "\n",
        "![image.png](https://i.ibb.co/Smd3Tkt/assignment2e.png)"
      ]
    },
    {
      "cell_type": "markdown",
      "metadata": {
        "id": "rgT8VYoq-dbm"
      },
      "source": [
        "### <p style=\"background-color:#9d4f8c; font-family:newtimeroman; color:#FFF9ED; font-size:150%; text-align:center; border-radius:10px 10px;\">Task 12: What is the max Total spending in whole dataset and show all records of that spending?</p>\n",
        "\n",
        "<a id=\"13\"></a>\n",
        "<a href=\"#toc\" class=\"btn btn-primary btn-sm\" role=\"button\" aria-pressed=\"true\" \n",
        "style=\"color:blue; background-color:#dfa8e4\" data-toggle=\"popover\">Content</a>"
      ]
    },
    {
      "cell_type": "code",
      "execution_count": null,
      "metadata": {
        "id": "ly4TjyGvdLPn"
      },
      "outputs": [],
      "source": [
        "# YOUR CODE IS HERE \n",
        "\n"
      ]
    },
    {
      "cell_type": "markdown",
      "metadata": {
        "id": "P-FEGPIvdLPn"
      },
      "source": [
        "Desired Output:\n",
        "\n",
        "![image.png](https://i.ibb.co/2W9t4nh/assignment2f.png)"
      ]
    },
    {
      "cell_type": "markdown",
      "metadata": {
        "id": "Ul4xACYX-dbm"
      },
      "source": [
        "### <p style=\"background-color:#9d4f8c; font-family:newtimeroman; color:#FFF9ED; font-size:150%; text-align:center; border-radius:10px 10px;\">Task 13: How many people who live in Spain spend more than average Total?</p>\n",
        "\n",
        "<a id=\"14\"></a>\n",
        "<a href=\"#toc\" class=\"btn btn-primary btn-sm\" role=\"button\" aria-pressed=\"true\" \n",
        "style=\"color:blue; background-color:#dfa8e4\" data-toggle=\"popover\">Content</a>"
      ]
    },
    {
      "cell_type": "code",
      "execution_count": null,
      "metadata": {
        "id": "NyxvXazadLPn"
      },
      "outputs": [],
      "source": [
        "# YOUR CODE IS HERE \n",
        "\n"
      ]
    },
    {
      "cell_type": "raw",
      "metadata": {
        "id": "99a1sxC3dLPo"
      },
      "source": [
        "Desired Output:\n",
        "\n",
        "InvoiceNo        728\n",
        "StockCode        728\n",
        "Description      728\n",
        "Quantity         728\n",
        "InvoiceDate      728\n",
        "UnitPrice        728\n",
        "CustomerID       728\n",
        "Country          728\n",
        "Total            728\n",
        "Average_Spend    728\n",
        "dtype: int64"
      ]
    },
    {
      "cell_type": "markdown",
      "metadata": {
        "id": "gLZj7IOO-dbn"
      },
      "source": [
        "### <p style=\"background-color:#9d4f8c; font-family:newtimeroman; color:#FFF9ED; font-size:150%; text-align:center; border-radius:10px 10px;\">Task 14: Convert datatype of \"InvoiceDate\" to datetime and assign it to new column name \"InvoiceDate2\"</p>\n",
        "\n",
        "<a id=\"15\"></a>\n",
        "<a href=\"#toc\" class=\"btn btn-primary btn-sm\" role=\"button\" aria-pressed=\"true\" \n",
        "style=\"color:blue; background-color:#dfa8e4\" data-toggle=\"popover\">Content</a>"
      ]
    },
    {
      "cell_type": "code",
      "execution_count": null,
      "metadata": {
        "id": "1Ct32m_4dLPo"
      },
      "outputs": [],
      "source": [
        "# YOUR CODE IS HERE \n",
        "\n"
      ]
    },
    {
      "cell_type": "raw",
      "metadata": {
        "id": "5qYfzDCzdLPo"
      },
      "source": [
        "Desired Output:\n",
        "\n",
        "0        2010-12-01 08:26:00\n",
        "1        2010-12-01 08:26:00\n",
        "2        2010-12-01 08:26:00\n",
        "3        2010-12-01 08:26:00\n",
        "4        2010-12-01 08:26:00\n",
        "                 ...        \n",
        "541904   2011-12-09 12:50:00\n",
        "541905   2011-12-09 12:50:00\n",
        "541906   2011-12-09 12:50:00\n",
        "541907   2011-12-09 12:50:00\n",
        "541908   2011-12-09 12:50:00\n",
        "Name: InvoiceDate2, Length: 541909, dtype: datetime64[ns]"
      ]
    },
    {
      "cell_type": "code",
      "execution_count": null,
      "metadata": {
        "id": "gVk7-nGddLPo"
      },
      "outputs": [],
      "source": [
        "# YOUR CODE IS HERE \n",
        "\n"
      ]
    },
    {
      "cell_type": "raw",
      "metadata": {
        "id": "gdeQJC7tdLPo"
      },
      "source": [
        "Desired Output:\n",
        "\n",
        "<class 'pandas.core.frame.DataFrame'>\n",
        "RangeIndex: 541909 entries, 0 to 541908\n",
        "Data columns (total 11 columns):\n",
        " #   Column         Non-Null Count   Dtype         \n",
        "---  ------         --------------   -----         \n",
        " 0   InvoiceNo      541909 non-null  object        \n",
        " 1   StockCode      541909 non-null  object        \n",
        " 2   Description    540455 non-null  object        \n",
        " 3   Quantity       541909 non-null  int64         \n",
        " 4   InvoiceDate    541909 non-null  object        \n",
        " 5   UnitPrice      541909 non-null  float64       \n",
        " 6   CustomerID     406829 non-null  float64       \n",
        " 7   Country        541909 non-null  object        \n",
        " 8   Total          541909 non-null  float64       \n",
        " 9   Average_Spend  541909 non-null  float64       \n",
        " 10  InvoiceDate2   541909 non-null  datetime64[ns]\n",
        "dtypes: datetime64[ns](1), float64(4), int64(1), object(5)\n",
        "memory usage: 45.5+ MB"
      ]
    },
    {
      "cell_type": "markdown",
      "metadata": {
        "id": "h7qU1cEN-dbo"
      },
      "source": [
        "### <p style=\"background-color:#9d4f8c; font-family:newtimeroman; color:#FFF9ED; font-size:150%; text-align:center; border-radius:10px 10px;\">Task 15: Take only date values (year-month-day) from InvoiceDate2 and assign it to a new column named **``date``**</p>\n",
        "\n",
        "<a id=\"16\"></a>\n",
        "<a href=\"#toc\" class=\"btn btn-primary btn-sm\" role=\"button\" aria-pressed=\"true\" \n",
        "style=\"color:blue; background-color:#dfa8e4\" data-toggle=\"popover\">Content</a>"
      ]
    },
    {
      "cell_type": "code",
      "execution_count": null,
      "metadata": {
        "id": "S5x0Y912dLPo"
      },
      "outputs": [],
      "source": [
        "# YOUR CODE IS HERE \n",
        "\n"
      ]
    },
    {
      "cell_type": "raw",
      "metadata": {
        "id": "UIkC1LoLdLPo"
      },
      "source": [
        "Desired Output:\n",
        "\n",
        "0         2010-12-01\n",
        "1         2010-12-01\n",
        "2         2010-12-01\n",
        "3         2010-12-01\n",
        "4         2010-12-01\n",
        "             ...    \n",
        "541904    2011-12-09\n",
        "541905    2011-12-09\n",
        "541906    2011-12-09\n",
        "541907    2011-12-09\n",
        "541908    2011-12-09\n",
        "Name: date, Length: 541909, dtype: object"
      ]
    },
    {
      "cell_type": "code",
      "execution_count": null,
      "metadata": {
        "id": "YfvX6CzGdLPp"
      },
      "outputs": [],
      "source": [
        "# YOUR CODE IS HERE \n",
        "\n"
      ]
    },
    {
      "cell_type": "markdown",
      "metadata": {
        "id": "LtAREnZwdLPp"
      },
      "source": [
        "Desired Output:\n",
        "\n",
        "![image.png](https://i.ibb.co/hdQm0jx/assignment2g.png)"
      ]
    },
    {
      "cell_type": "markdown",
      "metadata": {
        "id": "YCv4VuBv-dbp"
      },
      "source": [
        "### <p style=\"background-color:#9d4f8c; font-family:newtimeroman; color:#FFF9ED; font-size:150%; text-align:center; border-radius:10px 10px;\">Task 16: Drop \"InvoiceDate2\" and \"InvoiceDate\" columns permanently</p>\n",
        "\n",
        "<a id=\"17\"></a>\n",
        "<a href=\"#toc\" class=\"btn btn-primary btn-sm\" role=\"button\" aria-pressed=\"true\" \n",
        "style=\"color:blue; background-color:#dfa8e4\" data-toggle=\"popover\">Content</a>"
      ]
    },
    {
      "cell_type": "code",
      "execution_count": null,
      "metadata": {
        "id": "McYm86zrdLPp"
      },
      "outputs": [],
      "source": [
        "# YOUR CODE IS HERE \n",
        "\n"
      ]
    },
    {
      "cell_type": "markdown",
      "metadata": {
        "id": "1Z8sSCdZdLPp"
      },
      "source": [
        "Desired Output:\n",
        "\n",
        "![image.png](https://i.ibb.co/2dPtL0k/assignment2h.png)"
      ]
    },
    {
      "cell_type": "markdown",
      "metadata": {
        "id": "Mog5ONKk-dbp"
      },
      "source": [
        "### <p style=\"background-color:#9d4f8c; font-family:newtimeroman; color:#FFF9ED; font-size:150%; text-align:center; border-radius:10px 10px;\">Task 17: Remove A, B, G and E characters at the first 5 rows of \"StockCode\" in ecom dataframe with a string method</p>\n",
        "\n",
        "<a id=\"18\"></a>\n",
        "<a href=\"#toc\" class=\"btn btn-primary btn-sm\" role=\"button\" aria-pressed=\"true\" \n",
        "style=\"color:blue; background-color:#dfa8e4\" data-toggle=\"popover\">Content</a>"
      ]
    },
    {
      "cell_type": "code",
      "execution_count": null,
      "metadata": {
        "id": "bAAjSzrLdLPp"
      },
      "outputs": [],
      "source": [
        "# YOUR CODE IS HERE \n",
        "\n"
      ]
    },
    {
      "cell_type": "raw",
      "metadata": {
        "id": "dy1YTXlWdLPp"
      },
      "source": [
        "Desired Output:\n",
        "\n",
        "0    85123\n",
        "1    71053\n",
        "2    84406\n",
        "3    84029\n",
        "4    84029\n",
        "Name: StockCode, dtype: object"
      ]
    },
    {
      "cell_type": "markdown",
      "metadata": {
        "id": "BtrzN7IK-dbq"
      },
      "source": [
        "### <p style=\"background-color:#9d4f8c; font-family:newtimeroman; color:#FFF9ED; font-size:150%; text-align:center; border-radius:10px 10px;\">Task 18: Take only \"Total\" and \"date\" columns with loc and craete a new df named **``ecom2``**</p>\n",
        "\n",
        "<a id=\"19\"></a>\n",
        "<a href=\"#toc\" class=\"btn btn-primary btn-sm\" role=\"button\" aria-pressed=\"true\" \n",
        "style=\"color:blue; background-color:#dfa8e4\" data-toggle=\"popover\">Content</a>"
      ]
    },
    {
      "cell_type": "code",
      "execution_count": null,
      "metadata": {
        "id": "GE6TQzzRdLPp"
      },
      "outputs": [],
      "source": [
        "# YOUR CODE IS HERE \n",
        "\n"
      ]
    },
    {
      "cell_type": "markdown",
      "metadata": {
        "id": "jjWqSauNdLPp"
      },
      "source": [
        "Desired Output:\n",
        "\n",
        "![image.png](https://i.ibb.co/yFyxdCz/assignment2j.png)"
      ]
    },
    {
      "cell_type": "markdown",
      "metadata": {
        "id": "PUS1I-PW-dbs"
      },
      "source": [
        "### <p style=\"background-color:#9d4f8c; font-family:newtimeroman; color:#FFF9ED; font-size:150%; text-align:center; border-radius:10px 10px;\">Task 19: Take only \"InvoiceNo\" and \"CustomerID\" columns with iloc and craete a new df named **``ecom32``**</p>\n",
        "\n",
        "<a id=\"20\"></a>\n",
        "<a href=\"#toc\" class=\"btn btn-primary btn-sm\" role=\"button\" aria-pressed=\"true\" \n",
        "style=\"color:blue; background-color:#dfa8e4\" data-toggle=\"popover\">Content</a>"
      ]
    },
    {
      "cell_type": "code",
      "execution_count": null,
      "metadata": {
        "id": "93RjoYOVdLPq"
      },
      "outputs": [],
      "source": [
        "# YOUR CODE IS HERE \n",
        "\n"
      ]
    },
    {
      "cell_type": "markdown",
      "metadata": {
        "id": "dYvffs2VdLPq"
      },
      "source": [
        "Desired Output:\n",
        "\n",
        "![image.png](https://i.ibb.co/9HsWScR/assignment2k.png)"
      ]
    },
    {
      "cell_type": "markdown",
      "metadata": {
        "id": "TPd1LYKw-dbt"
      },
      "source": [
        "### <p style=\"background-color:#9d4f8c; font-family:newtimeroman; color:#FFF9ED; font-size:150%; text-align:center; border-radius:10px 10px;\">Task 20: Combine \"ecom2\" and \"ecom3\" with concat() method</p>\n",
        "\n",
        "<a id=\"21\"></a>\n",
        "<a href=\"#toc\" class=\"btn btn-primary btn-sm\" role=\"button\" aria-pressed=\"true\" \n",
        "style=\"color:blue; background-color:#dfa8e4\" data-toggle=\"popover\">Content</a>"
      ]
    },
    {
      "cell_type": "code",
      "execution_count": null,
      "metadata": {
        "id": "rdsTYwiXdLPq"
      },
      "outputs": [],
      "source": [
        "# YOUR CODE IS HERE \n",
        "\n"
      ]
    },
    {
      "cell_type": "markdown",
      "metadata": {
        "id": "wNuvNW_udLPq"
      },
      "source": [
        "Desired Output:\n",
        "\n",
        "![image.png](https://i.ibb.co/6NGsVMy/assignment2l.png)"
      ]
    },
    {
      "cell_type": "markdown",
      "metadata": {
        "id": "dnhYOvX7-dbu"
      },
      "source": [
        "### <p style=\"background-color:#9d4f8c; font-family:newtimeroman; color:#FFF9ED; font-size:150%; text-align:center; border-radius:10px 10px;\">Task 21: Combine the common (intersected) values of \"ecom2\" and \"ecom3\" with merge() method</p>\n",
        "\n",
        "<a id=\"22\"></a>\n",
        "<a href=\"#toc\" class=\"btn btn-primary btn-sm\" role=\"button\" aria-pressed=\"true\" \n",
        "style=\"color:blue; background-color:#dfa8e4\" data-toggle=\"popover\">Content</a>\n",
        "\n",
        "**If you \"MemoryError\" occurs, take only the first 100 rows from bot DFs**"
      ]
    },
    {
      "cell_type": "code",
      "execution_count": null,
      "metadata": {
        "id": "_RttgnrvdLPq"
      },
      "outputs": [],
      "source": [
        "# YOUR CODE IS HERE \n",
        "\n"
      ]
    },
    {
      "cell_type": "markdown",
      "metadata": {
        "id": "Wa2TR5PtdLPq"
      },
      "source": [
        "Desired Output:\n",
        "\n",
        "![image.png](https://i.ibb.co/3cgVkjv/assignment2m.png)"
      ]
    },
    {
      "cell_type": "markdown",
      "metadata": {
        "id": "SIytgbd7-dbv"
      },
      "source": [
        "### <p style=\"background-color:#9d4f8c; font-family:newtimeroman; color:#FFF9ED; font-size:150%; text-align:center; border-radius:10px 10px;\">Task 22: Combine \"ecom2\" and \"ecom3\" with join() method</p>\n",
        "\n",
        "<a id=\"23\"></a>\n",
        "<a href=\"#toc\" class=\"btn btn-primary btn-sm\" role=\"button\" aria-pressed=\"true\" \n",
        "style=\"color:blue; background-color:#dfa8e4\" data-toggle=\"popover\">Content</a>"
      ]
    },
    {
      "cell_type": "code",
      "execution_count": null,
      "metadata": {
        "id": "eiXQ82dydLPq"
      },
      "outputs": [],
      "source": [
        "# YOUR CODE IS HERE \n",
        "\n"
      ]
    },
    {
      "cell_type": "markdown",
      "metadata": {
        "id": "thAPUbzadLPq"
      },
      "source": [
        "Desired Output:\n",
        "\n",
        "![image.png](https://i.ibb.co/DfS2KqQ/assignment2n.png)"
      ]
    },
    {
      "cell_type": "markdown",
      "metadata": {
        "id": "5x2MPEO3-dbv"
      },
      "source": [
        "## <p style=\"background-color:#9d4f8c; font-family:newtimeroman; color:#FFF9ED; font-size:150%; text-align:center; border-radius:10px 10px;\">THE END OF THE ASSIGNMENT 02</p>\n",
        "\n",
        "# Now. it's time to relax!\n",
        "\n",
        "![Image_Assignment](https://i.ibb.co/jZD3Mqb/relaxing.jpg)\n",
        "\n",
        "<p style=\"text-align: center;\"><img src=\"https://docs.google.com/uc?id=1lY0Uj5R04yMY3-ZppPWxqCr5pvBLYPnV\" class=\"img-fluid\" \n",
        "alt=\"CLRSWY\"></p>\n",
        "\n",
        "## <p style=\"background-color:#FDFEFE; font-family:newtimeroman; color:#9d4f8c; font-size:100%; text-align:center; border-radius:10px 10px;\">WAY TO REINVENT YOURSELF</p>\n",
        "\n",
        "<a id=\"24\"></a>\n",
        "<a href=\"#toc\" class=\"btn btn-primary btn-sm\" role=\"button\" aria-pressed=\"true\" \n",
        "style=\"color:blue; background-color:#dfa8e4\" data-toggle=\"popover\">Content</a>\n",
        "___"
      ]
    }
  ],
  "metadata": {
    "colab": {
      "name": "Assignment_02_Student.ipynb",
      "provenance": [],
      "collapsed_sections": [],
      "include_colab_link": true
    },
    "kernelspec": {
      "display_name": "Python 3",
      "language": "python",
      "name": "python3"
    },
    "language_info": {
      "codemirror_mode": {
        "name": "ipython",
        "version": 3
      },
      "file_extension": ".py",
      "mimetype": "text/x-python",
      "name": "python",
      "nbconvert_exporter": "python",
      "pygments_lexer": "ipython3",
      "version": "3.8.13"
    },
    "toc": {
      "base_numbering": 1,
      "nav_menu": {},
      "number_sections": false,
      "sideBar": true,
      "skip_h1_title": false,
      "title_cell": "Table of Contents",
      "title_sidebar": "Contents",
      "toc_cell": false,
      "toc_position": {},
      "toc_section_display": true,
      "toc_window_display": true
    }
  },
  "nbformat": 4,
  "nbformat_minor": 0
}